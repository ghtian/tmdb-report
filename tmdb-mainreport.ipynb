{
 "cells": [
  {
   "cell_type": "markdown",
   "metadata": {},
   "source": [
    "\n",
    "# 项目：TMDb电影分析报告\n",
    "\n",
    "## 目录\n",
    "<ul>\n",
    "<li><a href=\"#intro\">简介</a></li>\n",
    "<li><a href=\"#wrangling\">数据整理</a></li>\n",
    "<li><a href=\"#eda1\">探索：问题1</a></li>\n",
    "<li><a href=\"#ques1\">结论：问题1</a></li>\n",
    "<li><a href=\"#eda2\">探索：问题2</a></li>\n",
    "<li><a href=\"#ques2\">结论：问题2</a></li>\n",
    "<li><a href=\"#result\">总结论</a></li>\n",
    "</ul>\n",
    "\n",
    "<a id='intro'></a>\n",
    "## 简介\n",
    "\n",
    "> **提示**：本分析报告基于TMDb电影数据库，包含自1960年以来的电影数据。\n",
    "\n",
    "> 问题1：每年最受欢迎的电影类别是哪些？\n",
    "\n",
    "> 问题2：什么样的电影最可能获得高票房？"
   ]
  },
  {
   "cell_type": "code",
   "execution_count": 232,
   "metadata": {},
   "outputs": [],
   "source": [
    "# 导入语句。\n",
    "import matplotlib.pyplot as plt\n",
    "import numpy as np\n",
    "import pandas as pd\n",
    "\n",
    "%matplotlib inline\n"
   ]
  },
  {
   "cell_type": "markdown",
   "metadata": {},
   "source": [
    "<a id='wrangling'></a>\n",
    "## 数据整理\n",
    "\n",
    "> **提示**：在报告的这一部分中载入数据，检查简洁度，然后整理和清理数据集，以便进行分析。请务必将步骤仔细归档，并确定清理决策是否正确。\n",
    "\n",
    "### 常规属性"
   ]
  },
  {
   "cell_type": "code",
   "execution_count": 233,
   "metadata": {
    "scrolled": false
   },
   "outputs": [
    {
     "data": {
      "text/html": [
       "<div>\n",
       "<style>\n",
       "    .dataframe thead tr:only-child th {\n",
       "        text-align: right;\n",
       "    }\n",
       "\n",
       "    .dataframe thead th {\n",
       "        text-align: left;\n",
       "    }\n",
       "\n",
       "    .dataframe tbody tr th {\n",
       "        vertical-align: top;\n",
       "    }\n",
       "</style>\n",
       "<table border=\"1\" class=\"dataframe\">\n",
       "  <thead>\n",
       "    <tr style=\"text-align: right;\">\n",
       "      <th></th>\n",
       "      <th>id</th>\n",
       "      <th>imdb_id</th>\n",
       "      <th>popularity</th>\n",
       "      <th>budget</th>\n",
       "      <th>revenue</th>\n",
       "      <th>original_title</th>\n",
       "      <th>cast</th>\n",
       "      <th>homepage</th>\n",
       "      <th>director</th>\n",
       "      <th>tagline</th>\n",
       "      <th>...</th>\n",
       "      <th>overview</th>\n",
       "      <th>runtime</th>\n",
       "      <th>genres</th>\n",
       "      <th>production_companies</th>\n",
       "      <th>release_date</th>\n",
       "      <th>vote_count</th>\n",
       "      <th>vote_average</th>\n",
       "      <th>release_year</th>\n",
       "      <th>budget_adj</th>\n",
       "      <th>revenue_adj</th>\n",
       "    </tr>\n",
       "  </thead>\n",
       "  <tbody>\n",
       "    <tr>\n",
       "      <th>0</th>\n",
       "      <td>135397</td>\n",
       "      <td>tt0369610</td>\n",
       "      <td>32.985763</td>\n",
       "      <td>150000000</td>\n",
       "      <td>1513528810</td>\n",
       "      <td>Jurassic World</td>\n",
       "      <td>Chris Pratt|Bryce Dallas Howard|Irrfan Khan|Vi...</td>\n",
       "      <td>http://www.jurassicworld.com/</td>\n",
       "      <td>Colin Trevorrow</td>\n",
       "      <td>The park is open.</td>\n",
       "      <td>...</td>\n",
       "      <td>Twenty-two years after the events of Jurassic ...</td>\n",
       "      <td>124</td>\n",
       "      <td>Action|Adventure|Science Fiction|Thriller</td>\n",
       "      <td>Universal Studios|Amblin Entertainment|Legenda...</td>\n",
       "      <td>6/9/15</td>\n",
       "      <td>5562</td>\n",
       "      <td>6.5</td>\n",
       "      <td>2015</td>\n",
       "      <td>1.379999e+08</td>\n",
       "      <td>1.392446e+09</td>\n",
       "    </tr>\n",
       "    <tr>\n",
       "      <th>1</th>\n",
       "      <td>76341</td>\n",
       "      <td>tt1392190</td>\n",
       "      <td>28.419936</td>\n",
       "      <td>150000000</td>\n",
       "      <td>378436354</td>\n",
       "      <td>Mad Max: Fury Road</td>\n",
       "      <td>Tom Hardy|Charlize Theron|Hugh Keays-Byrne|Nic...</td>\n",
       "      <td>http://www.madmaxmovie.com/</td>\n",
       "      <td>George Miller</td>\n",
       "      <td>What a Lovely Day.</td>\n",
       "      <td>...</td>\n",
       "      <td>An apocalyptic story set in the furthest reach...</td>\n",
       "      <td>120</td>\n",
       "      <td>Action|Adventure|Science Fiction|Thriller</td>\n",
       "      <td>Village Roadshow Pictures|Kennedy Miller Produ...</td>\n",
       "      <td>5/13/15</td>\n",
       "      <td>6185</td>\n",
       "      <td>7.1</td>\n",
       "      <td>2015</td>\n",
       "      <td>1.379999e+08</td>\n",
       "      <td>3.481613e+08</td>\n",
       "    </tr>\n",
       "  </tbody>\n",
       "</table>\n",
       "<p>2 rows × 21 columns</p>\n",
       "</div>"
      ],
      "text/plain": [
       "       id    imdb_id  popularity     budget     revenue      original_title  \\\n",
       "0  135397  tt0369610   32.985763  150000000  1513528810      Jurassic World   \n",
       "1   76341  tt1392190   28.419936  150000000   378436354  Mad Max: Fury Road   \n",
       "\n",
       "                                                cast  \\\n",
       "0  Chris Pratt|Bryce Dallas Howard|Irrfan Khan|Vi...   \n",
       "1  Tom Hardy|Charlize Theron|Hugh Keays-Byrne|Nic...   \n",
       "\n",
       "                        homepage         director             tagline  \\\n",
       "0  http://www.jurassicworld.com/  Colin Trevorrow   The park is open.   \n",
       "1    http://www.madmaxmovie.com/    George Miller  What a Lovely Day.   \n",
       "\n",
       "       ...                                                overview runtime  \\\n",
       "0      ...       Twenty-two years after the events of Jurassic ...     124   \n",
       "1      ...       An apocalyptic story set in the furthest reach...     120   \n",
       "\n",
       "                                      genres  \\\n",
       "0  Action|Adventure|Science Fiction|Thriller   \n",
       "1  Action|Adventure|Science Fiction|Thriller   \n",
       "\n",
       "                                production_companies release_date vote_count  \\\n",
       "0  Universal Studios|Amblin Entertainment|Legenda...       6/9/15       5562   \n",
       "1  Village Roadshow Pictures|Kennedy Miller Produ...      5/13/15       6185   \n",
       "\n",
       "   vote_average  release_year    budget_adj   revenue_adj  \n",
       "0           6.5          2015  1.379999e+08  1.392446e+09  \n",
       "1           7.1          2015  1.379999e+08  3.481613e+08  \n",
       "\n",
       "[2 rows x 21 columns]"
      ]
     },
     "execution_count": 233,
     "metadata": {},
     "output_type": "execute_result"
    }
   ],
   "source": [
    "# 加载数据并打印几行。进行这几项操作，来检查数据\n",
    "# 类型，以及是否有缺失数据或错误数据的情况。\n",
    "t_movies = pd.read_csv('tmdb-movies.csv')\n",
    "t_movies.head(2)\n",
    "#t_movies.info()"
   ]
  },
  {
   "cell_type": "markdown",
   "metadata": {},
   "source": [
    "### 开始清理"
   ]
  },
  {
   "cell_type": "code",
   "execution_count": 234,
   "metadata": {},
   "outputs": [],
   "source": [
    "# 清理其中缺失值过多同时与本次分析无关的列\n",
    "t_movies.drop(['homepage', 'tagline', 'keywords', 'production_companies'], axis=1, inplace=True)"
   ]
  },
  {
   "cell_type": "code",
   "execution_count": 235,
   "metadata": {},
   "outputs": [],
   "source": [
    "# 清理包含空值的行\n",
    "t_movies.dropna(inplace=True);\n",
    "#t_movies.info()"
   ]
  },
  {
   "cell_type": "code",
   "execution_count": 236,
   "metadata": {},
   "outputs": [],
   "source": [
    "# 经检验，预算与票房的零值太多，因此不作填充，直接删除相应行。\n",
    "zerobud_index = t_movies.query('budget==0').index\n",
    "t_movies.drop(zerobud_index, axis=0, inplace=True)\n",
    "zerorev_index = t_movies.query('revenue==0').index\n",
    "t_movies.drop(zerorev_index, axis=0, inplace=True)"
   ]
  },
  {
   "cell_type": "code",
   "execution_count": 237,
   "metadata": {},
   "outputs": [
    {
     "data": {
      "text/plain": [
       "0"
      ]
     },
     "execution_count": 237,
     "metadata": {},
     "output_type": "execute_result"
    }
   ],
   "source": [
    "# 删除重复行\n",
    "t_movies.duplicated().sum()\n",
    "t_movies.drop_duplicates(inplace=True)\n",
    "t_movies.duplicated().sum()"
   ]
  },
  {
   "cell_type": "code",
   "execution_count": 238,
   "metadata": {},
   "outputs": [],
   "source": [
    "# 转换时间类型\n",
    "t_movies.release_date = pd.to_datetime(t_movies.release_date)\n",
    "t_movies.release_year = pd.to_datetime(t_movies.release_year, format='%Y')\n"
   ]
  },
  {
   "cell_type": "markdown",
   "metadata": {},
   "source": [
    "### 清理结束"
   ]
  },
  {
   "cell_type": "code",
   "execution_count": 239,
   "metadata": {},
   "outputs": [
    {
     "name": "stdout",
     "output_type": "stream",
     "text": [
      "<class 'pandas.core.frame.DataFrame'>\n",
      "Int64Index: 3849 entries, 0 to 10848\n",
      "Data columns (total 17 columns):\n",
      "id                3849 non-null int64\n",
      "imdb_id           3849 non-null object\n",
      "popularity        3849 non-null float64\n",
      "budget            3849 non-null int64\n",
      "revenue           3849 non-null int64\n",
      "original_title    3849 non-null object\n",
      "cast              3849 non-null object\n",
      "director          3849 non-null object\n",
      "overview          3849 non-null object\n",
      "runtime           3849 non-null int64\n",
      "genres            3849 non-null object\n",
      "release_date      3849 non-null datetime64[ns]\n",
      "vote_count        3849 non-null int64\n",
      "vote_average      3849 non-null float64\n",
      "release_year      3849 non-null datetime64[ns]\n",
      "budget_adj        3849 non-null float64\n",
      "revenue_adj       3849 non-null float64\n",
      "dtypes: datetime64[ns](2), float64(4), int64(5), object(6)\n",
      "memory usage: 541.3+ KB\n"
     ]
    }
   ],
   "source": [
    "#查看整理结果\n",
    "t_movies.info()\n",
    "#t_movies.describe()\n",
    "#t_movies.head()"
   ]
  },
  {
   "cell_type": "markdown",
   "metadata": {},
   "source": [
    "<a id='eda1'></a>\n",
    "## 探索：问题1\n",
    "### 每年最受欢迎的电影类别是那些"
   ]
  },
  {
   "cell_type": "code",
   "execution_count": 240,
   "metadata": {},
   "outputs": [],
   "source": [
    "# 将电影类型分割为细类,形成新的数据集(stack()：分行堆叠)\n",
    "genres = t_movies['genres'].str.split('|', expand=True)\n",
    "# 分行堆叠\n",
    "genres = genres.stack()\n",
    "\n",
    "# 重设索引\n",
    "genres = genres.reset_index(level=0).set_index('level_0').rename(columns={0:'genres'})\n",
    "\n",
    "#合并数据\n",
    "df_genres = genres.join(t_movies.drop('genres', axis=1))\n",
    "#df_genres.head()"
   ]
  },
  {
   "cell_type": "code",
   "execution_count": 241,
   "metadata": {},
   "outputs": [
    {
     "data": {
      "text/plain": [
       "release_year\n",
       "1960-01-01             Horror\n",
       "1961-01-01          Animation\n",
       "1962-01-01           Thriller\n",
       "1963-01-01          Adventure\n",
       "1964-01-01             Action\n",
       "1965-01-01           Thriller\n",
       "1966-01-01              Drama\n",
       "1967-01-01          Animation\n",
       "1968-01-01            Mystery\n",
       "1969-01-01             Action\n",
       "1970-01-01          Animation\n",
       "1971-01-01             Family\n",
       "1972-01-01              Drama\n",
       "1973-01-01          Animation\n",
       "1974-01-01              Crime\n",
       "1975-01-01          Adventure\n",
       "1976-01-01              Crime\n",
       "1977-01-01             Action\n",
       "1978-01-01              Music\n",
       "1979-01-01             Horror\n",
       "1980-01-01          Adventure\n",
       "1981-01-01          Adventure\n",
       "1982-01-01    Science Fiction\n",
       "1983-01-01          Adventure\n",
       "1984-01-01             Family\n",
       "1985-01-01             Family\n",
       "1986-01-01          Animation\n",
       "1987-01-01                War\n",
       "1988-01-01          Animation\n",
       "1989-01-01          Animation\n",
       "1990-01-01            Western\n",
       "1991-01-01          Animation\n",
       "1992-01-01          Animation\n",
       "1993-01-01                War\n",
       "1994-01-01              Crime\n",
       "1995-01-01          Animation\n",
       "1996-01-01          Animation\n",
       "1997-01-01          Animation\n",
       "1998-01-01          Animation\n",
       "1999-01-01            Fantasy\n",
       "2000-01-01            Fantasy\n",
       "2001-01-01            Fantasy\n",
       "2002-01-01            Fantasy\n",
       "2003-01-01            Fantasy\n",
       "2004-01-01            Fantasy\n",
       "2005-01-01            Fantasy\n",
       "2006-01-01          Animation\n",
       "2007-01-01            Fantasy\n",
       "2008-01-01          Animation\n",
       "2009-01-01                War\n",
       "2010-01-01          Adventure\n",
       "2011-01-01            Fantasy\n",
       "2012-01-01            Western\n",
       "2013-01-01    Science Fiction\n",
       "2014-01-01    Science Fiction\n",
       "2015-01-01    Science Fiction\n",
       "dtype: object"
      ]
     },
     "execution_count": 241,
     "metadata": {},
     "output_type": "execute_result"
    }
   ],
   "source": [
    "# 获得每年最受欢迎的影片类型(unstack()：取消堆叠)\n",
    "genres_pop = df_genres.groupby(['release_year', 'genres'])['popularity'].mean()\n",
    "genres_pop.unstack().idxmax(axis=1)"
   ]
  },
  {
   "cell_type": "markdown",
   "metadata": {},
   "source": [
    "<a id='ques1'></a>\n",
    "### 结论--问题1：以上结果列出了1960年至2015年期间，每年最受欢迎的电影类别。"
   ]
  },
  {
   "cell_type": "markdown",
   "metadata": {},
   "source": [
    "<a id='eda2'></a>\n",
    "## 探索：问题2\n",
    "### 那些电影最可能获得高票房"
   ]
  },
  {
   "cell_type": "code",
   "execution_count": 242,
   "metadata": {},
   "outputs": [
    {
     "data": {
      "text/plain": [
       "<matplotlib.legend.Legend at 0x7fb4402fcfd0>"
      ]
     },
     "execution_count": 242,
     "metadata": {},
     "output_type": "execute_result"
    },
    {
     "data": {
      "image/png": "[encoded data removed]",
      "text/plain": [
       "<matplotlib.figure.Figure at 0x7fb440d61b70>"
      ]
     },
     "metadata": {},
     "output_type": "display_data"
    }
   ],
   "source": [
    "# 研究票房与投资预算的关系\n",
    "plt.scatter(t_movies.budget,t_movies.revenue,marker='.')\n",
    "plt.title('relation between budget and revenue')\n",
    "plt.xlabel('budget');\n",
    "plt.ylabel('revenue');\n",
    "plt.legend()\n"
   ]
  },
  {
   "cell_type": "markdown",
   "metadata": {},
   "source": [
    "如上图所示，投资与票房具有一定的正相关性"
   ]
  },
  {
   "cell_type": "code",
   "execution_count": 243,
   "metadata": {},
   "outputs": [
    {
     "data": {
      "text/plain": [
       "<matplotlib.legend.Legend at 0x7fb440e69f98>"
      ]
     },
     "execution_count": 243,
     "metadata": {},
     "output_type": "execute_result"
    },
    {
     "data": {
      "image/png": "[encoded data removed]",
      "text/plain": [
       "<matplotlib.figure.Figure at 0x7fb440354898>"
      ]
     },
     "metadata": {},
     "output_type": "display_data"
    }
   ],
   "source": [
    "# 研究票房与投票数的关系\n",
    "plt.scatter(t_movies.vote_count,t_movies.revenue,marker='.', color='green')\n",
    "plt.title('relation between vote_count and revenue')\n",
    "plt.xlabel('vote_count');\n",
    "plt.ylabel('revenue');\n",
    "plt.legend()"
   ]
  },
  {
   "cell_type": "markdown",
   "metadata": {},
   "source": [
    "如上图所示，投票数与票房具有一定的正相关性"
   ]
  },
  {
   "cell_type": "code",
   "execution_count": 244,
   "metadata": {},
   "outputs": [
    {
     "data": {
      "text/plain": [
       "<matplotlib.legend.Legend at 0x7fb4402d52e8>"
      ]
     },
     "execution_count": 244,
     "metadata": {},
     "output_type": "execute_result"
    },
    {
     "data": {
      "image/png": "[encoded data removed]",
      "text/plain": [
       "<matplotlib.figure.Figure at 0x7fb4403c6208>"
      ]
     },
     "metadata": {},
     "output_type": "display_data"
    }
   ],
   "source": [
    "# 研究票房与评分的关系\n",
    "plt.scatter(t_movies.vote_average,t_movies.revenue,marker='.', color='red')\n",
    "plt.title('relation between vote_average and revenue')\n",
    "plt.xlabel('vote_average');\n",
    "plt.ylabel('revenue');\n",
    "plt.legend()"
   ]
  },
  {
   "cell_type": "markdown",
   "metadata": {},
   "source": [
    "如上图所示，电影评分与票房具有一定的正相关性"
   ]
  },
  {
   "cell_type": "markdown",
   "metadata": {},
   "source": [
    "<a id='ques2'></a>\n",
    "### 结论--问题2：由以上分析可知，高投资、高关注、高评分的电影，更可能获得高票房。"
   ]
  },
  {
   "cell_type": "markdown",
   "metadata": {},
   "source": [
    "<a id='result'></a>\n",
    "## 总结论\n",
    "    数据样本中存在过多无效值，类似空值以及投资、票房中的零值，由于数量较大，填充并无太大意义，因此直接删除。而清理完毕后的数据只剩下不到四成，代表性明显不足，因而在统计各年度最受欢迎的电影时，结果可能失真，但通过这些清理后的数据仍可看出那些因素最可能跟票房相关。"
   ]
  },
  {
   "cell_type": "code",
   "execution_count": null,
   "metadata": {},
   "outputs": [],
   "source": []
  }
 ],
 "metadata": {
  "kernelspec": {
   "display_name": "Python 3",
   "language": "python",
   "name": "python3"
  },
  "language_info": {
   "codemirror_mode": {
    "name": "ipython",
    "version": 3
   },
   "file_extension": ".py",
   "mimetype": "text/x-python",
   "name": "python",
   "nbconvert_exporter": "python",
   "pygments_lexer": "ipython3",
   "version": "3.6.3"
  }
 },
 "nbformat": 4,
 "nbformat_minor": 2
}
